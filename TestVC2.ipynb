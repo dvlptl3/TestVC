{
 "cells": [
  {
   "cell_type": "code",
   "execution_count": 1,
   "id": "7a895ffe",
   "metadata": {},
   "outputs": [
    {
     "ename": "SyntaxError",
     "evalue": "invalid syntax (<ipython-input-1-f7e3f4fa1c57>, line 1)",
     "output_type": "error",
     "traceback": [
      "\u001b[0;36m  File \u001b[0;32m\"<ipython-input-1-f7e3f4fa1c57>\"\u001b[0;36m, line \u001b[0;32m1\u001b[0m\n\u001b[0;31m    Mat grad;\u001b[0m\n\u001b[0m        ^\u001b[0m\n\u001b[0;31mSyntaxError\u001b[0m\u001b[0;31m:\u001b[0m invalid syntax\n"
     ]
    }
   ],
   "source": [
    "Mat grad;\n",
    "int scale = 1;\n",
    "int delta = 0;\n",
    "int ddepth = CV_8U;\n",
    "Mat grad_x, grad_y;\n",
    "Mat abs_grad_x, abs_grad_y;"
   ]
  },
  {
   "cell_type": "code",
   "execution_count": 2,
   "id": "069751ec",
   "metadata": {},
   "outputs": [
    {
     "name": "stdout",
     "output_type": "stream",
     "text": [
      "Quality quality quality..\n"
     ]
    }
   ],
   "source": [
    "print(\"Quality quality quality..\")"
   ]
  },
  {
   "cell_type": "code",
   "execution_count": 10,
   "id": "18e09107",
   "metadata": {},
   "outputs": [],
   "source": [
    "import re\n",
    "check_int_re = re.compile(r\"[0-9]+\\?\")"
   ]
  },
  {
   "cell_type": "code",
   "execution_count": 27,
   "id": "8bd6e01c",
   "metadata": {},
   "outputs": [
    {
     "name": "stdout",
     "output_type": "stream",
     "text": [
      "2\n"
     ]
    }
   ],
   "source": [
    "tmp = re.search('(.*)\\?', '2?')\n",
    "print(tmp.group(1))"
   ]
  },
  {
   "cell_type": "code",
   "execution_count": 28,
   "id": "cc59deb1",
   "metadata": {},
   "outputs": [
    {
     "name": "stdout",
     "output_type": "stream",
     "text": [
      "Adding a line to test\n"
     ]
    }
   ],
   "source": [
    "print(\"Adding a line to test\")"
   ]
  },
  {
   "cell_type": "code",
   "execution_count": 29,
   "id": "ba235521",
   "metadata": {},
   "outputs": [
    {
     "name": "stdout",
     "output_type": "stream",
     "text": [
      "Adding one more line...\n"
     ]
    }
   ],
   "source": [
    "print(\"Adding one more line...\")"
   ]
  },
  {
   "cell_type": "code",
   "execution_count": null,
   "id": "2ed92774",
   "metadata": {},
   "outputs": [],
   "source": [
    "print(\"This is test\")"
   ]
  }
 ],
 "metadata": {
  "kernelspec": {
   "display_name": "Python 3",
   "language": "python",
   "name": "python3"
  },
  "language_info": {
   "codemirror_mode": {
    "name": "ipython",
    "version": 3
   },
   "file_extension": ".py",
   "mimetype": "text/x-python",
   "name": "python",
   "nbconvert_exporter": "python",
   "pygments_lexer": "ipython3",
   "version": "3.8.8"
  },
  "neptune": {
   "notebookId": "db5d2f72-7871-4ede-b569-1805c775111a"
  }
 },
 "nbformat": 4,
 "nbformat_minor": 5
}
