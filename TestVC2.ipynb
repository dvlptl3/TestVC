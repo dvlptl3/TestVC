{
 "cells": [
  {
   "cell_type": "code",
   "execution_count": 1,
   "id": "3716e0b7",
   "metadata": {},
   "outputs": [
    {
     "ename": "SyntaxError",
     "evalue": "invalid syntax (<ipython-input-1-f7e3f4fa1c57>, line 1)",
     "output_type": "error",
     "traceback": [
      "\u001b[0;36m  File \u001b[0;32m\"<ipython-input-1-f7e3f4fa1c57>\"\u001b[0;36m, line \u001b[0;32m1\u001b[0m\n\u001b[0;31m    Mat grad;\u001b[0m\n\u001b[0m        ^\u001b[0m\n\u001b[0;31mSyntaxError\u001b[0m\u001b[0;31m:\u001b[0m invalid syntax\n"
     ]
    }
   ],
   "source": [
    "Mat grad;\n",
    "int scale = 1;\n",
    "int delta = 0;\n",
    "int ddepth = CV_8U;\n",
    "Mat grad_x, grad_y;\n",
    "Mat abs_grad_x, abs_grad_y;"
   ]
  },
  {
   "cell_type": "code",
   "execution_count": 2,
   "id": "4531c073",
   "metadata": {},
   "outputs": [
    {
     "name": "stdout",
     "output_type": "stream",
     "text": [
      "Quality quality quality..\n"
     ]
    }
   ],
   "source": [
    "print(\"Quality quality quality..\")"
   ]
  },
  {
   "cell_type": "code",
   "execution_count": null,
   "id": "69c5ddfe",
   "metadata": {},
   "outputs": [],
   "source": []
  }
 ],
 "metadata": {
  "kernelspec": {
   "display_name": "Python 3",
   "language": "python",
   "name": "python3"
  },
  "language_info": {
   "codemirror_mode": {
    "name": "ipython",
    "version": 3
   },
   "file_extension": ".py",
   "mimetype": "text/x-python",
   "name": "python",
   "nbconvert_exporter": "python",
   "pygments_lexer": "ipython3",
   "version": "3.8.8"
  }
 },
 "nbformat": 4,
 "nbformat_minor": 5
}
